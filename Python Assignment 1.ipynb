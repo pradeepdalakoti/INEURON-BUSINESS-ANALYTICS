{
 "cells": [
  {
   "cell_type": "code",
   "execution_count": 1,
   "id": "f63dc0b5",
   "metadata": {
    "scrolled": true
   },
   "outputs": [
    {
     "name": "stdout",
     "output_type": "stream",
     "text": [
      "[1505, 1540, 1575, 1610, 1645, 1680, 1715, 1750, 1785, 1820, 1855, 1890, 1925, 1960, 1995, 2030, 2065, 2100, 2135, 2170, 2205, 2240, 2275, 2310, 2345, 2380, 2415, 2450, 2485, 2520, 2555, 2590, 2625, 2660, 2695]\n"
     ]
    }
   ],
   "source": [
    "# Solution 1\n",
    "\n",
    "numbers = []\n",
    "for i in range(1500, 2701):\n",
    "    if i % 7 == 0 and i % 5 == 0:\n",
    "        numbers.append(i)\n",
    "print(numbers)"
   ]
  },
  {
   "cell_type": "code",
   "execution_count": null,
   "id": "5646c128",
   "metadata": {},
   "outputs": [],
   "source": [
    "# Solution 2\n",
    "\n",
    "def add(x, y):\n",
    "  return x + y"
   ]
  },
  {
   "cell_type": "code",
   "execution_count": 3,
   "id": "25430b18",
   "metadata": {},
   "outputs": [],
   "source": [
    "# Solution 3\n",
    "\n",
    "def max_of_two(a, b):\n",
    "    if a > b:\n",
    "        return a\n",
    "    else:\n",
    "        return b\n"
   ]
  },
  {
   "cell_type": "code",
   "execution_count": null,
   "id": "38533608",
   "metadata": {},
   "outputs": [],
   "source": [
    "# Solution 4\n",
    "def factorial(n):\n",
    "    if n == 0:\n",
    "        return 1\n",
    "    else:\n",
    "        return n * factorial(n-1)"
   ]
  },
  {
   "cell_type": "code",
   "execution_count": null,
   "id": "d68c9da7",
   "metadata": {},
   "outputs": [],
   "source": [
    "# Solution 5\n",
    "def simple_interest(principal, rate, time):\n",
    "    return (principal * rate * time) / 100\n"
   ]
  },
  {
   "cell_type": "code",
   "execution_count": null,
   "id": "e92ced3b",
   "metadata": {},
   "outputs": [],
   "source": [
    "# Solution 6\n",
    "def compound_interest(principal, rate, time):\n",
    "    return principal * (1 + rate/100)**time - principal\n"
   ]
  },
  {
   "cell_type": "code",
   "execution_count": null,
   "id": "269d8f60",
   "metadata": {},
   "outputs": [],
   "source": [
    "# Solution 7\n",
    "def is_armstrong_number(number):\n",
    "    num_of_digits = len(str(number))\n",
    "    sum = 0\n",
    "    temp = number\n",
    "    while temp > 0:\n",
    "        digit = temp % 10\n",
    "        sum += digit ** num_of_digits\n",
    "        temp //= 10\n",
    "    return sum == number\n"
   ]
  },
  {
   "cell_type": "code",
   "execution_count": 2,
   "id": "93a3289d",
   "metadata": {},
   "outputs": [],
   "source": [
    "# Solution 8\n",
    "\n",
    "import math\n",
    "\n",
    "def area_of_circle(radius):\n",
    "    return math.pi * radius ** 2"
   ]
  },
  {
   "cell_type": "code",
   "execution_count": null,
   "id": "f3651ebe",
   "metadata": {},
   "outputs": [],
   "source": [
    "# Solution 9\n",
    "\n",
    "def print_prime_numbers_in_interval(start, end):\n",
    "    for num in range(start, end + 1):\n",
    "        if is_prime(num):\n",
    "            print(num)\n",
    "\n",
    "def is_prime(num):\n",
    "    if num > 1:\n",
    "        for i in range(2, num):\n",
    "            if (num % i) == 0:\n",
    "                return False\n",
    "        return True\n",
    "    else:\n",
    "        return False\n"
   ]
  },
  {
   "cell_type": "code",
   "execution_count": null,
   "id": "94d488a4",
   "metadata": {},
   "outputs": [],
   "source": [
    "# Solution 10\n",
    "\n",
    "def is_prime(num):\n",
    "    if num > 1:\n",
    "        for i in range(2, num):\n",
    "            if (num % i) == 0:\n",
    "        return True\n",
    "    else:\n",
    "        return False\n"
   ]
  }
 ],
 "metadata": {
  "kernelspec": {
   "display_name": "Python 3 (ipykernel)",
   "language": "python",
   "name": "python3"
  },
  "language_info": {
   "codemirror_mode": {
    "name": "ipython",
    "version": 3
   },
   "file_extension": ".py",
   "mimetype": "text/x-python",
   "name": "python",
   "nbconvert_exporter": "python",
   "pygments_lexer": "ipython3",
   "version": "3.9.7"
  }
 },
 "nbformat": 4,
 "nbformat_minor": 5
}
