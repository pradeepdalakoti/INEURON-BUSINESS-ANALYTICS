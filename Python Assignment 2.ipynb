{
 "cells": [
  {
   "cell_type": "code",
   "execution_count": null,
   "id": "8af97d5e",
   "metadata": {},
   "outputs": [],
   "source": [
    "# Question 1 \n",
    "\n",
    "def fibonacci(n):\n",
    "    if n <= 1:\n",
    "        return n\n",
    "    else:\n",
    "        return fibonacci(n-1) + fibonacci(n-2)\n",
    "\n",
    "n = int(input(\"Enter the value of n: \"))\n",
    "print(f\"The {n}th Fibonacci number is: {fibonacci(n)}\")"
   ]
  },
  {
   "cell_type": "code",
   "execution_count": null,
   "id": "e7d421b9",
   "metadata": {},
   "outputs": [],
   "source": [
    "# Question 2\n",
    "\n",
    "n = int(input(\"Enter a number: \"))\n",
    "if is_fibonacci(n):\n",
    "    print(f\"{n} is a Fibonacci number\")\n",
    "else:\n",
    "    print(f\"{n} is not a Fibonacci number\")"
   ]
  },
  {
   "cell_type": "code",
   "execution_count": null,
   "id": "55e4ca70",
   "metadata": {},
   "outputs": [],
   "source": [
    "# Question 3\n",
    "\n",
    "n = int(input(\"Enter the value of n: \"))\n",
    "x = int(input(\"Enter the value of x: \"))\n",
    "result = fibonacci_multiple(n, x)\n",
    "print(f\"The {n}-th multiple of {x} in the Fibonacci series is: {result}\")"
   ]
  },
  {
   "cell_type": "code",
   "execution_count": null,
   "id": "7fa725b1",
   "metadata": {},
   "outputs": [],
   "source": [
    "# Question 4\n",
    "\n",
    "char = input(\"Enter a character: \")\n",
    "print(f\"The ASCII value of {char} is: {ord(char)}\")"
   ]
  },
  {
   "cell_type": "code",
   "execution_count": null,
   "id": "fd878c9b",
   "metadata": {},
   "outputs": [],
   "source": [
    "# Question 5\n",
    "\n",
    "n = int(input(\"Enter a value for n: \"))\n",
    "sum_of_squares = sum(i ** 2 for i in range(1, n+1))\n",
    "print(f\"The sum of squares of the first {n} natural numbers is: {sum_of_squares}\")"
   ]
  },
  {
   "cell_type": "code",
   "execution_count": null,
   "id": "a17bce48",
   "metadata": {},
   "outputs": [],
   "source": [
    "# Question 6\n",
    "\n",
    "n = int(input(\"Enter a value for n: \"))\n",
    "cube_sum = sum(i ** 3 for i in range(1, n+1))\n",
    "print(f\"The cube sum of the first {n} natural numbers is: {cube_sum}\")"
   ]
  },
  {
   "cell_type": "code",
   "execution_count": null,
   "id": "b32a5ddf",
   "metadata": {},
   "outputs": [],
   "source": [
    "# Question 7\n",
    "\n",
    "arr = [int(x) for x in input(\"Enter the array elements separated by spaces: \").split()]\n",
    "arr_sum = sum(arr)\n",
    "print(f\"The sum of the array is: {arr_sum}\")"
   ]
  },
  {
   "cell_type": "code",
   "execution_count": null,
   "id": "fe0f1d7d",
   "metadata": {},
   "outputs": [],
   "source": [
    "# Question 8\n",
    "\n",
    "arr = [int(x) for x in input(\"Enter the array elements separated by spaces: \").split()]\n",
    "largest = arr[0]\n",
    "for i in range(1, len(arr)):\n",
    "    if arr[i] > largest:\n",
    "        largest = arr[i]\n",
    "print(f\"The largest element in the array is: {largest}\")"
   ]
  },
  {
   "cell_type": "code",
   "execution_count": null,
   "id": "24e4a06c",
   "metadata": {},
   "outputs": [],
   "source": [
    "# Question 9\n",
    "\n",
    "arr = [int(x) for x in input(\"Enter the array elements separated by spaces: \").split()]\n",
    "n = int(input(\"Enter the number of times to rotate the array left: \"))\n",
    "n = n % len(arr)\n",
    "arr = arr[n:] + arr[:ndef reverse(arr, start, end):\n",
    "    while start < end:\n",
    "        arr[start], arr[end] = arr[end], arr[start]\n",
    "        start += 1\n",
    "        end -= 1\n",
    "print(f\"The rotated array is: {arr}\")"
   ]
  },
  {
   "cell_type": "code",
   "execution_count": null,
   "id": "f880a4d3",
   "metadata": {},
   "outputs": [],
   "source": [
    "# Question 10\n",
    "\n",
    "def reverse(arr, start, end):\n",
    "    while start < end:\n",
    "        arr[start], arr[end] = arr[end], arr[start]\n",
    "        start += 1\n",
    "        end -= 1\n",
    "arr = [int(x) for x in input(\"Enter the array elements separated by spaces: \").split()]\n",
    "n = int(input(\"Enter the number of times to rotate the array left: \"))\n",
    "n = n % len(arr)\n",
    "print(f\"The rotated array is: {arr}\")"
   ]
  },
  {
   "cell_type": "code",
   "execution_count": null,
   "id": "dff16fc1",
   "metadata": {},
   "outputs": [],
   "source": [
    "# Question 11\n",
    "\n",
    "def split_and_add(arr, k):\n",
    "    # Split the array into two parts\n",
    "    arr1 = arr[:k]\n",
    "    arr2 = arr[k:]\n",
    "\n",
    "    # Add the first part to the end of the second part\n",
    "    arr3 = arr2 + arr1\n",
    "\n",
    "    return arr3\n",
    "\n",
    "arr = [int(x) for x in input(\"Enter the array elements separated by spaces: \").split()]\n",
    "k = int(input(\"Enter the index at which to split the array: \"))\n",
    "\n",
    "arr3 = split_and_add(arr, k)\n",
    "\n",
    "print(f\"The modified array is: {arr3}\")"
   ]
  },
  {
   "cell_type": "code",
   "execution_count": null,
   "id": "07c335a7",
   "metadata": {},
   "outputs": [],
   "source": []
  },
  {
   "cell_type": "code",
   "execution_count": null,
   "id": "edc99528",
   "metadata": {},
   "outputs": [],
   "source": []
  }
 ],
 "metadata": {
  "kernelspec": {
   "display_name": "Python 3 (ipykernel)",
   "language": "python",
   "name": "python3"
  },
  "language_info": {
   "codemirror_mode": {
    "name": "ipython",
    "version": 3
   },
   "file_extension": ".py",
   "mimetype": "text/x-python",
   "name": "python",
   "nbconvert_exporter": "python",
   "pygments_lexer": "ipython3",
   "version": "3.9.7"
  }
 },
 "nbformat": 4,
 "nbformat_minor": 5
}
